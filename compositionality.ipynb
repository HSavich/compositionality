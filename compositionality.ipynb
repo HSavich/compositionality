{
 "cells": [
  {
   "cell_type": "code",
   "execution_count": 148,
   "metadata": {},
   "outputs": [],
   "source": [
    "import numpy as np\n",
    "import fasttext\n",
    "import io\n",
    "import math"
   ]
  },
  {
   "cell_type": "markdown",
   "metadata": {},
   "source": [
    "Load in vectors from fasttext:\n",
    "https://fasttext.cc/docs/en/english-vectors.html"
   ]
  },
  {
   "cell_type": "code",
   "execution_count": 149,
   "metadata": {},
   "outputs": [],
   "source": [
    "def load_vectors(fname, n_vecs):\n",
    "#get vectors for the top n_vecs most frequent vectors\n",
    "    fin = io.open(fname, 'r', encoding='utf-8', newline='\\n', errors='ignore')\n",
    "    n, d = map(int, fin.readline().split())\n",
    "    data = {}\n",
    "    i = 0\n",
    "    for line in fin:\n",
    "        tokens = line.rstrip().split(' ')\n",
    "        data[tokens[0]] = map(float, tokens[1:])\n",
    "        i += 1\n",
    "        if i >= n_vecs:\n",
    "            res = {key:np.array([i for i in data[key]]) for key in data}\n",
    "            return(res)\n",
    "    return res"
   ]
  },
  {
   "cell_type": "code",
   "execution_count": 150,
   "metadata": {},
   "outputs": [],
   "source": [
    "num_vecs = 100000\n",
    "vecs = load_vectors(\"wiki-news-300d-1M.vec\", num_vecs)\n",
    "keys = list(vecs.keys())"
   ]
  },
  {
   "cell_type": "code",
   "execution_count": 151,
   "metadata": {},
   "outputs": [
    {
     "name": "stdout",
     "output_type": "stream",
     "text": [
      "1.203819212\n"
     ]
    }
   ],
   "source": [
    "trials = 100\n",
    "cumsum = 0\n",
    "for i in range(trials):\n",
    "    idx1 = np.random.randint(num_vecs)\n",
    "    idx2 = np.random.randint(num_vecs)\n",
    "    cumsum += vecs[keys[idx1]].dot(vecs[keys[idx2]])\n",
    "cumsum = cumsum / trials\n",
    "\n",
    "print(cumsum)"
   ]
  },
  {
   "cell_type": "code",
   "execution_count": 152,
   "metadata": {},
   "outputs": [],
   "source": [
    "\n",
    "def cosine_similarity(v1, v2):\n",
    "    return(v1.dot(v2) / (np.linalg.norm(v1) * np.linalg.norm(v2)))\n",
    "\n",
    "def get_knn(query_vec, k = 1):\n",
    "    closest_matches = [(-1.1, \"not a word\")]\n",
    "    cos_theta_thresh = min(closest_matches)[0]\n",
    "    for key in keys:\n",
    "        cos_theta = cosine_similarity(vecs[key], query_vec)\n",
    "        if cos_theta > cos_theta_thresh:\n",
    "            closest_matches.append((cos_theta, key))\n",
    "            closest_matches.sort(reverse = True)\n",
    "            closest_matches = closest_matches[:k]\n",
    "            cos_theta_thresh = min(closest_matches)[0]\n",
    "    return closest_matches\n",
    "\n",
    "def show_knn(query_vec, k = 1):\n",
    "    knn = get_knn(query_vec, k = k)\n",
    "    for pair in knn:\n",
    "        print(f\"{pair[1]}: {pair[0]}\")"
   ]
  },
  {
   "cell_type": "code",
   "execution_count": 157,
   "metadata": {},
   "outputs": [
    {
     "name": "stdout",
     "output_type": "stream",
     "text": [
      "royal: 0.8649942294282293\n",
      "man: 0.7981027103621264\n",
      "king: 0.7392085765872102\n",
      "prince: 0.7163905971310617\n",
      "woman: 0.6905222115891921\n"
     ]
    }
   ],
   "source": [
    "show_knn(vecs[\"man\"] + vecs['royal'], 5)"
   ]
  }
 ],
 "metadata": {
  "kernelspec": {
   "display_name": "Python 3.8.5 64-bit ('anaconda3')",
   "language": "python",
   "name": "python3"
  },
  "language_info": {
   "codemirror_mode": {
    "name": "ipython",
    "version": 3
   },
   "file_extension": ".py",
   "mimetype": "text/x-python",
   "name": "python",
   "nbconvert_exporter": "python",
   "pygments_lexer": "ipython3",
   "version": "3.8.5"
  },
  "orig_nbformat": 4,
  "vscode": {
   "interpreter": {
    "hash": "98b39e574d87cc5692564f8530d6c80c20e25b792bac53804b03115375c4a8d6"
   }
  }
 },
 "nbformat": 4,
 "nbformat_minor": 2
}
